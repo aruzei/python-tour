{
 "cells": [
  {
   "cell_type": "code",
   "execution_count": 5,
   "metadata": {
    "collapsed": true
   },
   "outputs": [],
   "source": [
    "import numpy as np"
   ]
  },
  {
   "cell_type": "code",
   "execution_count": 11,
   "metadata": {
    "collapsed": false
   },
   "outputs": [],
   "source": [
    "def Test_Operator(operator,val1,val2,expected):\n",
    "    print(operator(val1,val2) == expected)"
   ]
  },
  {
   "cell_type": "code",
   "execution_count": 24,
   "metadata": {
    "collapsed": true
   },
   "outputs": [],
   "source": [
    "def And(x1, x2):\n",
    "    x = np.array([x1,x2])\n",
    "    w = np.array([0.5,0.5])\n",
    "    b = - 0.7\n",
    "    return 0 if np.dot(x,w) + b <= 0 else 1\n",
    "\n",
    "def Nand(x1, x2):\n",
    "    x = np.array([x1,x2])\n",
    "    w = np.array([-1,-1])\n",
    "    b = 1.8\n",
    "    return 0 if np.dot(x,w) + b <= 0 else 1\n",
    "\n",
    "\n",
    "def Or(x1, x2):\n",
    "    x = np.array([x1,x2])\n",
    "    w = np.array([1,1])\n",
    "    b = - 0.9\n",
    "    return 0 if np.dot(x,w) + b <= 0 else 1"
   ]
  },
  {
   "cell_type": "code",
   "execution_count": 35,
   "metadata": {
    "collapsed": false
   },
   "outputs": [
    {
     "name": "stdout",
     "output_type": "stream",
     "text": [
      "True\n",
      "True\n",
      "True\n",
      "True\n",
      "True\n",
      "True\n",
      "True\n",
      "True\n",
      "True\n",
      "True\n",
      "True\n",
      "True\n"
     ]
    }
   ],
   "source": [
    "# We can pass these tests by a perceptron.\n",
    "Test_Operator(And,0,0,0)\n",
    "Test_Operator(And,0,1,0)\n",
    "Test_Operator(And,1,0,0)\n",
    "Test_Operator(And,1,1,1)\n",
    "\n",
    "Test_Operator(Nand,0,0,1)\n",
    "Test_Operator(Nand,0,1,1)\n",
    "Test_Operator(Nand,1,0,1)\n",
    "Test_Operator(Nand,1,1,0)\n",
    "\n",
    "Test_Operator(Or,0,0,0)\n",
    "Test_Operator(Or,0,1,1)\n",
    "Test_Operator(Or,1,0,1)\n",
    "Test_Operator(Or,1,1,1)"
   ]
  },
  {
   "cell_type": "code",
   "execution_count": 28,
   "metadata": {
    "collapsed": true
   },
   "outputs": [],
   "source": [
    "def Xor(x1, x2):\n",
    "    # This is fake implementation\n",
    "    x = np.array([x1,x2])\n",
    "    w = np.array([1,1])\n",
    "    b = - 0.9\n",
    "    return 0 if np.dot(x,w) + b <= 0 else 1"
   ]
  },
  {
   "cell_type": "code",
   "execution_count": 30,
   "metadata": {
    "collapsed": false
   },
   "outputs": [
    {
     "name": "stdout",
     "output_type": "stream",
     "text": [
      "True\n",
      "True\n",
      "True\n",
      "False\n"
     ]
    }
   ],
   "source": [
    "# We can't pass these tests by a perceptron.\n",
    "Test_Operator(Xor,0,0,0)\n",
    "Test_Operator(Xor,0,1,1)\n",
    "Test_Operator(Xor,1,0,1)\n",
    "Test_Operator(Xor,1,1,0)"
   ]
  },
  {
   "cell_type": "code",
   "execution_count": 32,
   "metadata": {
    "collapsed": true
   },
   "outputs": [],
   "source": [
    "def Xor_MultiLayered(x1, x2):\n",
    "    return And(Nand(x1,x2),Or(x1,x2))"
   ]
  },
  {
   "cell_type": "code",
   "execution_count": 34,
   "metadata": {
    "collapsed": false
   },
   "outputs": [
    {
     "name": "stdout",
     "output_type": "stream",
     "text": [
      "True\n",
      "True\n",
      "True\n",
      "True\n"
     ]
    }
   ],
   "source": [
    "# We can pass these tests by multi-layered perceptron.\n",
    "Test_Operator(Xor_MultiLayered,0,0,0)\n",
    "Test_Operator(Xor_MultiLayered,0,1,1)\n",
    "Test_Operator(Xor_MultiLayered,1,0,1)\n",
    "Test_Operator(Xor_MultiLayered,1,1,0)"
   ]
  }
 ],
 "metadata": {
  "kernelspec": {
   "display_name": "Python 3",
   "language": "python",
   "name": "python3"
  },
  "language_info": {
   "codemirror_mode": {
    "name": "ipython",
    "version": 3
   },
   "file_extension": ".py",
   "mimetype": "text/x-python",
   "name": "python",
   "nbconvert_exporter": "python",
   "pygments_lexer": "ipython3",
   "version": "3.6.0"
  }
 },
 "nbformat": 4,
 "nbformat_minor": 2
}
