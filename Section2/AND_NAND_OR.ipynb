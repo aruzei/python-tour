{
 "cells": [
  {
   "cell_type": "code",
   "execution_count": 20,
   "metadata": {
    "collapsed": false
   },
   "outputs": [],
   "source": [
    "def And(x1, x2):\n",
    "    w1,w2,theta = 0.5,0.5,0.7\n",
    "    if (w1 *x1 + w2 * x2) <= theta :\n",
    "        return 0\n",
    "    else:\n",
    "        return 1\n",
    "def Or(x1, x2):\n",
    "    w1,w2,theta = 1,1,0.9\n",
    "    if (w1 *x1 + w2 * x2) <= theta :\n",
    "        return 0\n",
    "    else:\n",
    "        return 1\n",
    "def Nand(x1,x2):\n",
    "    w1,w2,theta = -1,-1,-1.8\n",
    "    if (w1 *x1 + w2 * x2) <= theta :\n",
    "        return 0\n",
    "    else:\n",
    "        return 1 "
   ]
  },
  {
   "cell_type": "code",
   "execution_count": 22,
   "metadata": {
    "collapsed": false
   },
   "outputs": [
    {
     "name": "stdout",
     "output_type": "stream",
     "text": [
      "AND\n",
      "0\n",
      "0\n",
      "0\n",
      "1\n",
      "\n",
      "NAND\n",
      "1\n",
      "1\n",
      "1\n",
      "0\n",
      "\n",
      "OR\n",
      "0\n",
      "1\n",
      "1\n",
      "1\n"
     ]
    }
   ],
   "source": [
    "print(\"AND\")\n",
    "print(And(0,0))\n",
    "print(And(0,1))\n",
    "print(And(1,0))\n",
    "print(And(1,1))\n",
    "print()\n",
    "print(\"NAND\")\n",
    "print(Nand(0,0))\n",
    "print(Nand(0,1))\n",
    "print(Nand(1,0))\n",
    "print(Nand(1,1))\n",
    "print()\n",
    "print(\"OR\")\n",
    "print(Or(0,0))\n",
    "print(Or(0,1))\n",
    "print(Or(1,0))\n",
    "print(Or(1,1))"
   ]
  },
  {
   "cell_type": "code",
   "execution_count": null,
   "metadata": {
    "collapsed": true
   },
   "outputs": [],
   "source": []
  }
 ],
 "metadata": {
  "kernelspec": {
   "display_name": "Python 3",
   "language": "python",
   "name": "python3"
  },
  "language_info": {
   "codemirror_mode": {
    "name": "ipython",
    "version": 3
   },
   "file_extension": ".py",
   "mimetype": "text/x-python",
   "name": "python",
   "nbconvert_exporter": "python",
   "pygments_lexer": "ipython3",
   "version": "3.6.0"
  }
 },
 "nbformat": 4,
 "nbformat_minor": 2
}
