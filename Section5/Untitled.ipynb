{
 "cells": [
  {
   "cell_type": "code",
   "execution_count": 75,
   "metadata": {
    "collapsed": false
   },
   "outputs": [],
   "source": [
    "from abc import *\n",
    "\n",
    "class Layer:\n",
    "    __metaclass__ = ABCMeta\n",
    "\n",
    "    def __init__(self):\n",
    "        self.x = None\n",
    "        self.y = None\n",
    "    \n",
    "    @classmethod\n",
    "    @abstractmethod\n",
    "    def forward(self,x,y):\n",
    "        raise NotImplementedError()\n",
    "    \n",
    "    @classmethod\n",
    "    @abstractmethod\n",
    "    def backward(self,x,y):\n",
    "        raise NotImplementedError()\n",
    "\n",
    "class MultipleLayer(Layer):\n",
    "    @classmethod\n",
    "    def forward(self,x,y):\n",
    "        self.x = x\n",
    "        self.y = y\n",
    "        \n",
    "        return x * y\n",
    "        \n",
    "    @classmethod\n",
    "    def backward(self,z):\n",
    "        dx = z * self.y\n",
    "        dy = z * self.x\n",
    "        \n",
    "        return dx,dy"
   ]
  },
  {
   "cell_type": "code",
   "execution_count": 51,
   "metadata": {
    "collapsed": false
   },
   "outputs": [
    {
     "name": "stdout",
     "output_type": "stream",
     "text": [
      "200 220.00000000000003\n",
      "(1.1, 200)\n",
      "(2.2, 110.00000000000001)\n"
     ]
    }
   ],
   "source": [
    "x1 =[100,2]\n",
    "\n",
    "mul_apple_layer = MultipleLayer()\n",
    "mul_tax_layer = MultipleLayer()\n",
    "\n",
    "x2 = [mul_apple_layer.forward(apple,apple_num),1.1]\n",
    "p = mul_tax_layer.forward(x2[0],x2[1])\n",
    "\n",
    "print(ap,p)\n",
    "dp = 1\n",
    "dp_x2 = mul_tax_layer.backward(dp)\n",
    "print(dp_x2)\n",
    "\n",
    "dp_x1= mul_apple_layer.backward(dp_x2[0])\n",
    "\n",
    "print(dp_x1)"
   ]
  },
  {
   "cell_type": "code",
   "execution_count": null,
   "metadata": {
    "collapsed": true
   },
   "outputs": [],
   "source": []
  }
 ],
 "metadata": {
  "kernelspec": {
   "display_name": "Python 3",
   "language": "python",
   "name": "python3"
  },
  "language_info": {
   "codemirror_mode": {
    "name": "ipython",
    "version": 3
   },
   "file_extension": ".py",
   "mimetype": "text/x-python",
   "name": "python",
   "nbconvert_exporter": "python",
   "pygments_lexer": "ipython3",
   "version": "3.6.0"
  }
 },
 "nbformat": 4,
 "nbformat_minor": 2
}
